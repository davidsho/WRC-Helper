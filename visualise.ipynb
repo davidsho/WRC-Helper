{
 "cells": [
  {
   "cell_type": "code",
   "execution_count": 1,
   "metadata": {},
   "outputs": [],
   "source": [
    "import pandas as pd\n",
    "from Helper import Helper"
   ]
  },
  {
   "cell_type": "code",
   "execution_count": 2,
   "metadata": {},
   "outputs": [
    {
     "name": "stdout",
     "output_type": "stream",
     "text": [
      "{'message': 'Missing Authentication Token'}\n"
     ]
    },
    {
     "ename": "KeyError",
     "evalue": "'rallyEvents'",
     "output_type": "error",
     "traceback": [
      "\u001b[0;31m---------------------------------------------------------------------------\u001b[0m",
      "\u001b[0;31mKeyError\u001b[0m                                  Traceback (most recent call last)",
      "\u001b[1;32m/Users/davidshortland/Documents/sports4cast/wrc/visualise.ipynb Cell 2\u001b[0m line \u001b[0;36m2\n\u001b[1;32m      <a href='vscode-notebook-cell:/Users/davidshortland/Documents/sports4cast/wrc/visualise.ipynb#W1sZmlsZQ%3D%3D?line=0'>1</a>\u001b[0m helper \u001b[39m=\u001b[39m Helper()\n\u001b[0;32m----> <a href='vscode-notebook-cell:/Users/davidshortland/Documents/sports4cast/wrc/visualise.ipynb#W1sZmlsZQ%3D%3D?line=1'>2</a>\u001b[0m helper\u001b[39m.\u001b[39;49mgetActiveSeason()\n",
      "File \u001b[0;32m~/Documents/sports4cast/wrc/Helper.py:50\u001b[0m, in \u001b[0;36mHelper.getActiveSeason\u001b[0;34m(self, all)\u001b[0m\n\u001b[1;32m     48\u001b[0m     \u001b[39mreturn\u001b[39;00m r\n\u001b[1;32m     49\u001b[0m \u001b[39melse\u001b[39;00m:\n\u001b[0;32m---> 50\u001b[0m     \u001b[39mreturn\u001b[39;00m r[\u001b[39m'\u001b[39;49m\u001b[39mrallyEvents\u001b[39;49m\u001b[39m'\u001b[39;49m][\u001b[39m'\u001b[39m\u001b[39mitems\u001b[39m\u001b[39m'\u001b[39m]\n",
      "\u001b[0;31mKeyError\u001b[0m: 'rallyEvents'"
     ]
    }
   ],
   "source": [
    "helper = Helper()\n",
    "helper.getActiveSeason()"
   ]
  }
 ],
 "metadata": {
  "kernelspec": {
   "display_name": "vwrc",
   "language": "python",
   "name": "python3"
  },
  "language_info": {
   "codemirror_mode": {
    "name": "ipython",
    "version": 3
   },
   "file_extension": ".py",
   "mimetype": "text/x-python",
   "name": "python",
   "nbconvert_exporter": "python",
   "pygments_lexer": "ipython3",
   "version": "3.11.5"
  },
  "orig_nbformat": 4
 },
 "nbformat": 4,
 "nbformat_minor": 2
}
